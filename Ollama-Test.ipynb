{
 "cells": [
  {
   "cell_type": "code",
   "execution_count": null,
   "id": "d7c743c5",
   "metadata": {},
   "outputs": [],
   "source": [
    "import PyPDF2\n",
    "import joblib\n",
    "from sklearn.feature_extraction.text import TfidfVectorizer\n",
    "\n",
    "# Load trained model and vectorizer\n",
    "model = joblib.load('pdf_type_classifier.pkl')\n",
    "vectorizer = joblib.load('tfidf_vectorizer.pkl')\n",
    "\n",
    "def extract_text_from_pdf(pdf_path):\n",
    "    with open(pdf_path, 'rb') as file:\n",
    "        reader = PyPDF2.PdfReader(file)\n",
    "        text = \"\"\n",
    "        for page in reader.pages:\n",
    "            text += page.extract_text() or \"\"\n",
    "    return text\n",
    "\n",
    "def predict_pdf_type(pdf_path):\n",
    "    text = extract_text_from_pdf(pdf_path)\n",
    "    features = vectorizer.transform([text])\n",
    "    predicted_type = model.predict(features)[0]\n",
    "    return predicted_type\n",
    "\n",
    "# Example usage:\n",
    "# pdf_path = 'sample.pdf'\n",
    "# print(\"Predicted document type:\", predict_pdf_type(pdf_path))"
   ]
  }
 ],
 "metadata": {
  "language_info": {
   "name": "python"
  }
 },
 "nbformat": 4,
 "nbformat_minor": 5
}
