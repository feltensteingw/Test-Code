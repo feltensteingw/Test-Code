{
 "cells": [
  {
   "cell_type": "code",
   "execution_count": null,
   "id": "d7c743c5",
   "metadata": {},
   "outputs": [
    {
     "data": {
      "text/plain": [
       "['tfidf_vectorizer.pkl']"
      ]
     },
     "execution_count": 12,
     "metadata": {},
     "output_type": "execute_result"
    }
   ],
   "source": [
    "import PyPDF2\n",
    "import joblib\n",
    "from sklearn.feature_extraction.text import TfidfVectorizer\n",
    "from sklearn.naive_bayes import MultinomialNB\n",
    "from pdf2image import convert_from_path\n",
    "import os\n",
    "import pytesseract\n",
    "\n",
    "def extract_texts_and_labels_from_directories(base_dir):\n",
    "    texts = []\n",
    "    labels = []\n",
    "    for label in os.listdir(base_dir):\n",
    "        label_dir = os.path.join(base_dir, label)\n",
    "        if os.path.isdir(label_dir):\n",
    "            pdf_files = [f for f in os.listdir(label_dir) if f.lower().endswith('.pdf')]\n",
    "            for pdf_file in pdf_files:\n",
    "                pdf_path = os.path.join(label_dir, pdf_file)\n",
    "                text = extract_text_from_pdf(pdf_path)\n",
    "                texts.append(text)\n",
    "                labels.append(label)\n",
    "    return texts, labels\n",
    "\n",
    "base_dir = '/Users/Guy/repo/Test-Code/PDFSamples'  \n",
    "\n",
    "# texts, labels = extract_texts_and_labels_from_directories(base_dir)\n",
    "\n",
    "\n",
    "def extract_text_from_pdf(pdf_path):\n",
    "    text = \"\"\n",
    "    try:\n",
    "        # Try extracting text using PyPDF2 (works for text-based PDFs)\n",
    "        with open(pdf_path, 'rb') as file:\n",
    "            reader = PyPDF2.PdfReader(file)\n",
    "            for page in reader.pages:\n",
    "                page_text = page.extract_text()\n",
    "                if page_text:\n",
    "                    text += page_text\n",
    "        # If no text was found, try OCR\n",
    "        if not text.strip():\n",
    "            images = convert_from_path(pdf_path)\n",
    "            for image in images:\n",
    "                text += pytesseract.image_to_string(image)\n",
    "    except Exception as e:\n",
    "        print(f\"Error processing {pdf_path}: {e}\")\n",
    "    return text\n",
    "\n",
    "def predict_pdf_type(pdf_path):\n",
    "    text = extract_text_from_pdf(pdf_path)\n",
    "    features = vectorizer.transform([text])\n",
    "    predicted_type = model.predict(features)[0]\n",
    "    return predicted_type\n",
    "\n",
    "texts, labels = extract_texts_and_labels_from_directories(base_dir)\n",
    "\n",
    "# Vectorize the text data\n",
    "vectorizer = TfidfVectorizer()\n",
    "X = vectorizer.fit_transform(texts)\n",
    "\n",
    "# Train a classifier\n",
    "model = MultinomialNB()\n",
    "model.fit(X, labels)\n",
    "\n",
    "# Save the model and vectorizer\n",
    "joblib.dump(model, 'pdf_type_classifier.pkl')\n",
    "joblib.dump(vectorizer, 'tfidf_vectorizer.pkl')"
   ]
  },
  {
   "cell_type": "code",
   "execution_count": 11,
   "id": "08452644",
   "metadata": {},
   "outputs": [
    {
     "name": "stdout",
     "output_type": "stream",
     "text": [
      "Beneficiary Change Sample.pdf is predicted as: Beneficiary Change Request\n",
      "Disabiltiy Comp Sample.pdf is predicted as: Disability Compensation\n",
      "Appeals Sample.pdf is predicted as: Appeals Notification\n"
     ]
    }
   ],
   "source": [
    "predict_dir = '/Users/Guy/repo/Test-Code/PDFPredict'  \n",
    "if os.path.isdir(predict_dir):\n",
    "    pdf_files = [f for f in os.listdir(predict_dir) if f.lower().endswith('.pdf')]\n",
    "    for pdf_file in pdf_files:\n",
    "        pdf_path = os.path.join(predict_dir, pdf_file)\n",
    "        file_type =  predict_pdf_type(pdf_path)\n",
    "        print(pdf_file + \" is predicted as: \" + file_type)"
   ]
  }
 ],
 "metadata": {
  "kernelspec": {
   "display_name": "base",
   "language": "python",
   "name": "python3"
  },
  "language_info": {
   "codemirror_mode": {
    "name": "ipython",
    "version": 3
   },
   "file_extension": ".py",
   "mimetype": "text/x-python",
   "name": "python",
   "nbconvert_exporter": "python",
   "pygments_lexer": "ipython3",
   "version": "3.11.5"
  }
 },
 "nbformat": 4,
 "nbformat_minor": 5
}
