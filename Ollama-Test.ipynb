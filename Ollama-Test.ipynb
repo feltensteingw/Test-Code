{
 "cells": [
  {
   "cell_type": "code",
   "execution_count": null,
   "id": "d7c743c5",
   "metadata": {},
   "outputs": [],
   "source": [
    "import PyPDF2\n",
    "import joblib\n",
    "from sklearn.feature_extraction.text import TfidfVectorizer\n",
    "\n",
    "# Load trained model and vectorizer\n",
    "model = joblib.load('pdf_type_classifier.pkl')\n",
    "vectorizer = joblib.load('tfidf_vectorizer.pkl')\n",
    "\n",
    "def extract_text_from_pdf(pdf_path):\n",
    "    with open(pdf_path, 'rb') as file:\n",
    "        reader = PyPDF2.PdfReader(file)\n",
    "        text = \"\"\n",
    "        for page in reader.pages:\n",
    "            text += page.extract_text() or \"\"\n",
    "    return text\n",
    "\n",
    "def predict_pdf_type(pdf_path):\n",
    "    text = extract_text_from_pdf(pdf_path)\n",
    "    features = vectorizer.transform([text])\n",
    "    predicted_type = model.predict(features)[0]\n",
    "    return predicted_type\n",
    "\n",
    "# Example usage:\n",
    "# pdf_path = 'sample.pdf'\n",
    "# print(\"Predicted document type:\", predict_pdf_type(pdf_path))"
   ]
  },
  {
   "cell_type": "code",
   "execution_count": 1,
   "id": "f4e83f8f",
   "metadata": {},
   "outputs": [
    {
     "data": {
      "text/plain": [
       "['tfidf_vectorizer.pkl']"
      ]
     },
     "execution_count": 1,
     "metadata": {},
     "output_type": "execute_result"
    }
   ],
   "source": [
    "# THis is a script framework to train a model for classifying PDF documents.\n",
    "from sklearn.feature_extraction.text import TfidfVectorizer\n",
    "from sklearn.naive_bayes import MultinomialNB\n",
    "import joblib\n",
    "\n",
    "# Example training data (replace with your own extracted PDF texts and labels)\n",
    "texts = [\n",
    "    \"Invoice for services rendered in June 2023...\",\n",
    "    \"This is a research paper about machine learning...\",\n",
    "    \"Your bank statement for May 2023...\",\n",
    "    \"Meeting agenda for project kickoff...\",\n",
    "]\n",
    "labels = [\n",
    "    \"invoice\",\n",
    "    \"research_paper\",\n",
    "    \"bank_statement\",\n",
    "    \"meeting_agenda\",\n",
    "]\n",
    "\n",
    "# Vectorize the text data\n",
    "vectorizer = TfidfVectorizer()\n",
    "X = vectorizer.fit_transform(texts)\n",
    "\n",
    "# Train a classifier\n",
    "model = MultinomialNB()\n",
    "model.fit(X, labels)\n",
    "\n",
    "# Save the model and vectorizer\n",
    "joblib.dump(model, 'pdf_type_classifier.pkl')\n",
    "joblib.dump(vectorizer, 'tfidf_vectorizer.pkl')"
   ]
  },
  {
   "cell_type": "code",
   "execution_count": null,
   "id": "94852979",
   "metadata": {
    "vscode": {
     "languageId": "coffeescript"
    }
   },
   "outputs": [],
   "source": [
    "import os\n",
    "\n",
    "def extract_texts_and_labels_from_directories(base_dir):\n",
    "    texts = []\n",
    "    labels = []\n",
    "    for label in os.listdir(base_dir):\n",
    "        label_dir = os.path.join(base_dir, label)\n",
    "        if os.path.isdir(label_dir):\n",
    "            pdf_files = [f for f in os.listdir(label_dir) if f.lower().endswith('.pdf')]\n",
    "            for pdf_file in pdf_files:\n",
    "                pdf_path = os.path.join(label_dir, pdf_file)\n",
    "                text = extract_text_from_pdf(pdf_path)\n",
    "                texts.append(text)\n",
    "                labels.append(label)\n",
    "    return texts, labels\n",
    "\n",
    "# Example usage:\n",
    "# base_dir = 'path/to/base_directory'\n",
    "# texts, labels = extract_texts_and_labels_from_directories(base_dir)"
   ]
  },
  {
   "cell_type": "code",
   "execution_count": null,
   "id": "6931d6d9",
   "metadata": {},
   "outputs": [],
   "source": []
  },
  {
   "cell_type": "code",
   "execution_count": 2,
   "id": "8841754b",
   "metadata": {},
   "outputs": [
    {
     "name": "stdout",
     "output_type": "stream",
     "text": [
      "Collecting PyPDF2\n",
      "  Obtaining dependency information for PyPDF2 from https://files.pythonhosted.org/packages/8e/5e/c86a5643653825d3c913719e788e41386bee415c2b87b4f955432f2de6b2/pypdf2-3.0.1-py3-none-any.whl.metadata\n",
      "  Downloading pypdf2-3.0.1-py3-none-any.whl.metadata (6.8 kB)\n",
      "Requirement already satisfied: scikit-learn in /Users/Guy/anaconda3/lib/python3.11/site-packages (1.3.0)\n",
      "Requirement already satisfied: joblib in /Users/Guy/anaconda3/lib/python3.11/site-packages (1.2.0)\n",
      "Requirement already satisfied: numpy>=1.17.3 in /Users/Guy/anaconda3/lib/python3.11/site-packages (from scikit-learn) (1.24.3)\n",
      "Requirement already satisfied: scipy>=1.5.0 in /Users/Guy/anaconda3/lib/python3.11/site-packages (from scikit-learn) (1.11.1)\n",
      "Requirement already satisfied: threadpoolctl>=2.0.0 in /Users/Guy/anaconda3/lib/python3.11/site-packages (from scikit-learn) (2.2.0)\n",
      "Downloading pypdf2-3.0.1-py3-none-any.whl (232 kB)\n",
      "\u001b[2K   \u001b[90m━━━━━━━━━━━━━━━━━━━━━━━━━━━━━━━━━━━━━━━━\u001b[0m \u001b[32m232.6/232.6 kB\u001b[0m \u001b[31m4.6 MB/s\u001b[0m eta \u001b[36m0:00:00\u001b[0ma \u001b[36m0:00:01\u001b[0m\n",
      "\u001b[?25hInstalling collected packages: PyPDF2\n",
      "Successfully installed PyPDF2-3.0.1\n",
      "Note: you may need to restart the kernel to use updated packages.\n"
     ]
    }
   ],
   "source": [
    "pip install PyPDF2 scikit-learn joblib"
   ]
  }
 ],
 "metadata": {
  "kernelspec": {
   "display_name": "base",
   "language": "python",
   "name": "python3"
  },
  "language_info": {
   "codemirror_mode": {
    "name": "ipython",
    "version": 3
   },
   "file_extension": ".py",
   "mimetype": "text/x-python",
   "name": "python",
   "nbconvert_exporter": "python",
   "pygments_lexer": "ipython3",
   "version": "3.11.5"
  }
 },
 "nbformat": 4,
 "nbformat_minor": 5
}
